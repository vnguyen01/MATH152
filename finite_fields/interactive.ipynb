{
 "cells": [
  {
   "cell_type": "code",
   "execution_count": 2,
   "metadata": {
    "collapsed": false
   },
   "outputs": [],
   "source": [
    "from IPython.html import widgets\n",
    "from IPython.display import display\n",
    "from finite_fields import poly"
   ]
  },
  {
   "cell_type": "code",
   "execution_count": 5,
   "metadata": {
    "collapsed": false
   },
   "outputs": [
    {
     "name": "stdout",
     "output_type": "stream",
     "text": [
      "======================================\n",
      "ARITHMETIC IN FINITE FIELD OF ORDER 4\n",
      "IRREDUCIBLE POLYNOMIAL 1 + x + x^2\n",
      "======================================\n",
      "1 + x = 1 + x\n",
      "1 + x = 1 + x\n",
      "SUM: 0\n",
      "PRODUCT: x\n",
      "MULTIPLICATIVE INVERSE OF 1 + x : x\n",
      "MULTIPLICATIVE INVERSE OF 1 + x : x\n",
      "QUOTIENT: 1\n"
     ]
    }
   ],
   "source": [
    "def print_element(Element):\n",
    "    poly(order=field_order.value, p1=poly1.value, p2=poly2.value).main()\n",
    "    return Element\n",
    "\n",
    "def select_element(Order):\n",
    "    poly1.options = poly(order=Order).get_table()\n",
    "    poly2.options = poly(order=Order).get_table()\n",
    "    \n",
    "    \n",
    "field_order = widgets.Dropdown(options = poly().get_irr_poly().keys())\n",
    "poly1 = widgets.Dropdown(options=poly(order=field_order.value).get_table())\n",
    "poly2 = widgets.Dropdown(options=poly(order=field_order.value).get_table())\n",
    "\n",
    "p1 = widgets.interactive(print_element, Element=poly1)\n",
    "p2 = widgets.interactive(print_element, Element=poly2)\n",
    "o = widgets.interactive(select_element, Order=field_order)\n",
    "\n",
    "display(o)\n",
    "display(p1)\n",
    "display(p2)"
   ]
  },
  {
   "cell_type": "code",
   "execution_count": null,
   "metadata": {
    "collapsed": true
   },
   "outputs": [],
   "source": []
  }
 ],
 "metadata": {
  "kernelspec": {
   "display_name": "Python 2",
   "language": "python",
   "name": "python2"
  },
  "language_info": {
   "codemirror_mode": {
    "name": "ipython",
    "version": 2
   },
   "file_extension": ".py",
   "mimetype": "text/x-python",
   "name": "python",
   "nbconvert_exporter": "python",
   "pygments_lexer": "ipython2",
   "version": "2.7.10"
  }
 },
 "nbformat": 4,
 "nbformat_minor": 0
}
