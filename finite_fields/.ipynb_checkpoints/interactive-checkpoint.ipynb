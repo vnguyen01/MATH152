{
 "cells": [
  {
   "cell_type": "code",
   "execution_count": 4,
   "metadata": {
    "collapsed": false
   },
   "outputs": [],
   "source": [
    "from IPython.html import widgets\n",
    "from IPython.display import display\n",
    "from finite_fields import poly"
   ]
  },
  {
   "cell_type": "code",
   "execution_count": 5,
   "metadata": {
    "collapsed": false
   },
   "outputs": [
    {
     "name": "stdout",
     "output_type": "stream",
     "text": [
      "======================================\n",
      "ARITHMETIC IN FINITE FIELD OF ORDER 9\n",
      "IRREDUCIBLE POLYNOMIAL 1 + x^2\n",
      "======================================\n",
      "1 = 1\n",
      "1 + x = 1 + x\n",
      "\n",
      "SUM: 2 + x\n",
      "PRODUCT: 1 + x\n",
      "MULTIPLICATIVE INVERSE OF 1 : 1\n",
      "MULTIPLICATIVE INVERSE OF 1 + x : 2 + x\n",
      "QUOTIENT: 2 + x\n"
     ]
    }
   ],
   "source": [
    "def print_element(element):\n",
    "    poly(order=field_order.value, p1=poly1.value, p2=poly2.value).main()\n",
    "    return element\n",
    "\n",
    "def select_element(order):\n",
    "    poly1.options = poly(order=order).get_table()\n",
    "    poly2.options = poly(order=order).get_table()\n",
    "    \n",
    "    \n",
    "field_order = widgets.Dropdown(options = poly().get_irr_poly().keys())\n",
    "poly1 = widgets.Dropdown(options=poly(order=field_order.value).get_table())\n",
    "poly2 = widgets.Dropdown(options=poly(order=field_order.value).get_table())\n",
    "\n",
    "p1 = widgets.interactive(print_element, element=poly1)\n",
    "p2 = widgets.interactive(print_element, element=poly2)\n",
    "o = widgets.interactive(select_element, order=field_order)\n",
    "\n",
    "display(o)\n",
    "display(p1)\n",
    "display(p2)"
   ]
  },
  {
   "cell_type": "code",
   "execution_count": null,
   "metadata": {
    "collapsed": true
   },
   "outputs": [],
   "source": []
  }
 ],
 "metadata": {
  "kernelspec": {
   "display_name": "Python 2",
   "language": "python",
   "name": "python2"
  },
  "language_info": {
   "codemirror_mode": {
    "name": "ipython",
    "version": 2
   },
   "file_extension": ".py",
   "mimetype": "text/x-python",
   "name": "python",
   "nbconvert_exporter": "python",
   "pygments_lexer": "ipython2",
   "version": "2.7.10"
  }
 },
 "nbformat": 4,
 "nbformat_minor": 0
}
